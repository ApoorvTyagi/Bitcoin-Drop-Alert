{
 "cells": [
  {
   "cell_type": "code",
   "execution_count": 17,
   "metadata": {},
   "outputs": [],
   "source": [
    "from win10toast import ToastNotifier\n",
    "from pygame import mixer\n",
    "import schedule\n",
    "import requests\n",
    "import json"
   ]
  },
  {
   "cell_type": "code",
   "execution_count": 9,
   "metadata": {},
   "outputs": [],
   "source": [
    "URL = \"https://api.coindesk.com/v1/bpi/currentprice/{}.json\"\n",
    "MESSAGE = \"Bitcoin Price Decreased\"\n",
    "CURRENT_PRICE = 0.0\n",
    "CURRENCY = \"INR\"\n",
    "TOASTER = ToastNotifier()"
   ]
  },
  {
   "cell_type": "code",
   "execution_count": 10,
   "metadata": {},
   "outputs": [],
   "source": [
    "def get_current_price():\n",
    "    response = requests.get(URL.format(CURRENCY))\n",
    "    res = json.loads(response.text)\n",
    "    rate = float(res[\"bpi\"][CURRENCY][\"rate_float\"])\n",
    "    return round(rate,2)"
   ]
  },
  {
   "cell_type": "code",
   "execution_count": 11,
   "metadata": {},
   "outputs": [],
   "source": [
    "def show_notification(toast_title, toast_message, toast_duration=10):\n",
    "    TOASTER.show_toast(\n",
    "        title=toast_title,\n",
    "        msg=toast_message,\n",
    "        duration=toast_duration,\n",
    "        icon_path=\"bitcoin.ico\"\n",
    "    )"
   ]
  },
  {
   "cell_type": "code",
   "execution_count": 12,
   "metadata": {},
   "outputs": [],
   "source": [
    "def play_sound():\n",
    "    mixer.init()\n",
    "    mixer.music.load('Gilfoyle_Music.mp3')\n",
    "    mixer.music.play() "
   ]
  },
  {
   "cell_type": "code",
   "execution_count": 15,
   "metadata": {},
   "outputs": [],
   "source": [
    "def check_current_price():\n",
    "    rate = get_current_price()\n",
    "    global CURRENT_PRICE\n",
    "    if rate < CURRENT_PRICE:\n",
    "        play_sound()\n",
    "        msg = \"Current Price is: ₹{}\".format(rate)\n",
    "        show_notification(MESSAGE,msg)\n",
    "        CURRENT_PRICE = rate"
   ]
  },
  {
   "cell_type": "code",
   "execution_count": 16,
   "metadata": {},
   "source": [
    "CURRENT_PRICE = get_current_price()\n",
    "schedule.every(1).minute.do(check_current_price)\n",
    "while True:\n",
    "    schedule.run_pending()"
   ]
  },
  {
   "cell_type": "code",
   "execution_count": null,
   "metadata": {},
   "outputs": [],
   "source": []
  }
 ],
 "metadata": {
  "kernelspec": {
   "display_name": "Python 3",
   "language": "python",
   "name": "python3"
  },
  "language_info": {
   "codemirror_mode": {
    "name": "ipython",
    "version": 3
   },
   "file_extension": ".py",
   "mimetype": "text/x-python",
   "name": "python",
   "nbconvert_exporter": "python",
   "pygments_lexer": "ipython3",
   "version": "3.7.0"
  }
 },
 "nbformat": 4,
 "nbformat_minor": 2
}
